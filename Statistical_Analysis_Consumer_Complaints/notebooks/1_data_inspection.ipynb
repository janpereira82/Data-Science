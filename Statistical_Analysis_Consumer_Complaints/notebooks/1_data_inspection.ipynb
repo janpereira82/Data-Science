{
 "cells": [
  {
   "cell_type": "markdown",
   "metadata": {},
   "source": [
    "# 1. Inspeção Inicial dos Dados do Consumidor.gov.br\n",
    "\n",
    "Este notebook realiza a análise inicial dos dados de reclamações do Consumidor.gov.br."
   ]
  },
  {
   "cell_type": "code",
   "execution_count": null,
   "metadata": {},
   "source": [
    "import pandas as pd\n",
    "import numpy as np\n",
    "import matplotlib.pyplot as plt\n",
    "import seaborn as sns\n",
    "from datetime import datetime\n",
    "\n",
    "%matplotlib inline\n",
    "plt.style.use('seaborn')\n",
    "sns.set_palette('Set2')"
   ]
  },
  {
   "cell_type": "markdown",
   "metadata": {},
   "source": [
    "## 1.1 Carregamento dos Dados"
   ]
  },
  {
   "cell_type": "code",
   "execution_count": null,
   "metadata": {},
   "source": [
    "# Carregar o dataset\n",
    "df = pd.read_csv('../data/consumidor_gov_data.csv')\n",
    "\n",
    "# Exibir as primeiras linhas\n",
    "print('Dimensões do dataset:', df.shape)\n",
    "df.head()"
   ]
  },
  {
   "cell_type": "markdown",
   "metadata": {},
   "source": [
    "## 1.2 Análise Inicial das Variáveis"
   ]
  },
  {
   "cell_type": "code",
   "execution_count": null,
   "metadata": {},
   "source": [
    "# Informações gerais do dataset\n",
    "print('\\nInformações do Dataset:')\n",
    "df.info()\n",
    "\n",
    "print('\\nEstatísticas Descritivas:')\n",
    "df.describe()"
   ]
  },
  {
   "cell_type": "markdown",
   "metadata": {},
   "source": [
    "## 1.3 Distribuição das Notas"
   ]
  },
  {
   "cell_type": "code",
   "execution_count": null,
   "metadata": {},
   "source": [
    "plt.figure(figsize=(10, 6))\n",
    "sns.histplot(data=df, x='nota', bins=5)\n",
    "plt.title('Distribuição das Notas de Satisfação')\n",
    "plt.xlabel('Nota')\n",
    "plt.ylabel('Frequência')\n",
    "plt.show()"
   ]
  },
  {
   "cell_type": "markdown",
   "metadata": {},
   "source": [
    "## 1.4 Análise Temporal"
   ]
  },
  {
   "cell_type": "code",
   "execution_count": null,
   "metadata": {},
   "source": [
    "# Converter data para datetime\n",
    "df['data'] = pd.to_datetime(df['data'])\n",
    "\n",
    "# Agrupar por mês e calcular média das notas\n",
    "notas_mensais = df.groupby(df['data'].dt.to_period('M'))['nota'].mean()\n",
    "\n",
    "plt.figure(figsize=(12, 6))\n",
    "notas_mensais.plot(kind='line')\n",
    "plt.title('Evolução da Média de Notas ao Longo do Tempo')\n",
    "plt.xlabel('Mês')\n",
    "plt.ylabel('Média das Notas')\n",
    "plt.xticks(rotation=45)\n",
    "plt.tight_layout()\n",
    "plt.show()"
   ]
  }
 ],
 "metadata": {
  "kernelspec": {
   "display_name": "Python 3",
   "language": "python",
   "name": "python3"
  },
  "language_info": {
   "codemirror_mode": {
    "name": "ipython",
    "version": 3
   },
   "file_extension": ".py",
   "mimetype": "text/x-python",
   "name": "python",
   "nbconvert_exporter": "python",
   "pygments_lexer": "ipython3",
   "version": "3.8.0"
  }
 },
 "nbformat": 4,
 "nbformat_minor": 4
}
