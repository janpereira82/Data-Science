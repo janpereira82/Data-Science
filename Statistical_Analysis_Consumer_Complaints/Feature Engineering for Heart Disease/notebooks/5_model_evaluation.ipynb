{
 "cells": [
  {
   "cell_type": "markdown",
   "metadata": {},
   "source": [
    "# 5. Avaliação do Modelo\n",
    "\n",
    "Este notebook avalia o impacto das novas features na performance do modelo."
   ]
  },
  {
   "cell_type": "code",
   "execution_count": null,
   "metadata": {},
   "source": [
    "import pandas as pd\n",
    "import numpy as np\n",
    "import matplotlib.pyplot as plt\n",
    "import seaborn as sns\n",
    "from pathlib import Path\n",
    "from sklearn.model_selection import train_test_split, cross_val_score\n",
    "from sklearn.preprocessing import StandardScaler\n",
    "from sklearn.ensemble import RandomForestClassifier\n",
    "from sklearn.metrics import classification_report, confusion_matrix, roc_curve, auc\n",
    "\n",
    "# Configurações de visualização\n",
    "plt.style.use('seaborn')\n",
    "sns.set_palette('husl')\n",
    "pd.set_option('display.max_columns', None)"
   ]
  },
  {
   "cell_type": "code",
   "execution_count": null,
   "metadata": {},
   "source": [
    "# Carregar dados\n",
    "data_path = Path('../data/heart_disease_processed.csv')\n",
    "df = pd.read_csv(data_path)"
   ]
  },
  {
   "cell_type": "markdown",
   "metadata": {},
   "source": [
    "## 1. Preparação dos Dados"
   ]
  },
  {
   "cell_type": "code",
   "execution_count": null,
   "metadata": {},
   "source": [
    "# Separar features originais e novas\n",
    "original_features = ['age', 'resting_blood_pressure', 'cholestoral', 'Max_heart_rate',\n",
    "                    'oldpeak']\n",
    "\n",
    "engineered_features = ['age_risk', 'bp_risk', 'cardiac_stress_index',\n",
    "                      'combined_risk_score', 'age_heartrate_interaction',\n",
    "                      'bp_cholesterol_interaction']\n",
    "\n",
    "# Preparar conjuntos de dados\n",
    "X_original = df[original_features]\n",
    "X_engineered = df[original_features + engineered_features]\n",
    "y = df['target']\n",
    "\n",
    "# Normalizar\n",
    "scaler = StandardScaler()\n",
    "X_original_scaled = scaler.fit_transform(X_original)\n",
    "X_engineered_scaled = scaler.fit_transform(X_engineered)"
   ]
  },
  {
   "cell_type": "markdown",
   "metadata": {},
   "source": [
    "## 2. Avaliação com Cross-Validation"
   ]
  },
  {
   "cell_type": "code",
   "execution_count": null,
   "metadata": {},
   "source": [
    "# Função para avaliar modelo\n",
    "def evaluate_model(X, y, model):\n",
    "    scores = cross_val_score(model, X, y, cv=5, scoring='accuracy')\n",
    "    return scores.mean(), scores.std()\n",
    "\n",
    "# Criar modelos\n",
    "rf_original = RandomForestClassifier(n_estimators=100, random_state=42)\n",
    "rf_engineered = RandomForestClassifier(n_estimators=100, random_state=42)\n",
    "\n",
    "# Avaliar\n",
    "original_score, original_std = evaluate_model(X_original_scaled, y, rf_original)\n",
    "engineered_score, engineered_std = evaluate_model(X_engineered_scaled, y, rf_engineered)\n",
    "\n",
    "print(f\"Score com features originais: {original_score:.3f} (+/- {original_std:.3f})\")\n",
    "print(f\"Score com features engineered: {engineered_score:.3f} (+/- {engineered_std:.3f})\")"
   ]
  },
  {
   "cell_type": "markdown",
   "metadata": {},
   "source": [
    "## 3. Análise Detalhada do Melhor Modelo"
   ]
  },
  {
   "cell_type": "code",
   "execution_count": null,
   "metadata": {},
   "source": [
    "# Dividir dados\n",
    "X_train, X_test, y_train, y_test = train_test_split(\n",
    "    X_engineered_scaled, y, test_size=0.2, random_state=42)\n",
    "\n",
    "# Treinar modelo\n",
    "rf_final = RandomForestClassifier(n_estimators=100, random_state=42)\n",
    "rf_final.fit(X_train, y_train)\n",
    "\n",
    "# Fazer previsões\n",
    "y_pred = rf_final.predict(X_test)\n",
    "\n",
    "# Relatório de classificação\n",
    "print(\"Relatório de Classificação:\")\n",
    "print(classification_report(y_test, y_pred))"
   ]
  },
  {
   "cell_type": "markdown",
   "metadata": {},
   "source": [
    "## 4. Curva ROC"
   ]
  },
  {
   "cell_type": "code",
   "execution_count": null,
   "metadata": {},
   "source": [
    "# Calcular probabilidades\n",
    "y_prob = rf_final.predict_proba(X_test)[:, 1]\n",
    "\n",
    "# Calcular curva ROC\n",
    "fpr, tpr, _ = roc_curve(y_test, y_prob)\n",
    "roc_auc = auc(fpr, tpr)\n",
    "\n",
    "# Plotar\n",
    "plt.figure(figsize=(8, 6))\n",
    "plt.plot(fpr, tpr, color='darkorange', lw=2,\n",
    "         label=f'ROC curve (AUC = {roc_auc:.2f})')\n",
    "plt.plot([0, 1], [0, 1], color='navy', lw=2, linestyle='--')\n",
    "plt.xlim([0.0, 1.0])\n",
    "plt.ylim([0.0, 1.05])\n",
    "plt.xlabel('False Positive Rate')\n",
    "plt.ylabel('True Positive Rate')\n",
    "plt.title('Receiver Operating Characteristic (ROC)')\n",
    "plt.legend(loc=\"lower right\")\n",
    "plt.show()"
   ]
  }
 ],
 "metadata": {
  "kernelspec": {
   "display_name": "Python 3",
   "language": "python",
   "name": "python3"
  }
 },
 "nbformat": 4,
 "nbformat_minor": 4
}
