{
 "cells": [
  {
   "cell_type": "markdown",
   "metadata": {},
   "source": [
    "# 3. Tratamento de Valores Ausentes - Ames Housing Dataset\n",
    "\n",
    "Este notebook foca no tratamento de valores ausentes, incluindo:\n",
    "1. Análise detalhada de missing values\n",
    "2. Estratégias de imputação\n",
    "3. Validação das imputações"
   ]
  },
  {
   "cell_type": "code",
   "execution_count": null,
   "metadata": {},
   "source": [
    "# Importando bibliotecas necessárias\n",
    "import pandas as pd\n",
    "import numpy as np\n",
    "import matplotlib.pyplot as plt\n",
    "import seaborn as sns\n",
    "import missingno as msno\n",
    "from sklearn.impute import SimpleImputer\n",
    "\n",
    "# Configurações de visualização\n",
    "plt.style.use('seaborn')\n",
    "%matplotlib inline"
   ]
  },
  {
   "cell_type": "code",
   "execution_count": null,
   "metadata": {},
   "source": [
    "# Carregando os dados\n",
    "df = pd.read_csv('../data/ames_housing.csv')\n",
    "\n",
    "# Análise inicial de valores ausentes\n",
    "missing_values = df.isnull().sum()\n",
    "missing_percentages = (missing_values / len(df)) * 100\n",
    "\n",
    "missing_df = pd.DataFrame({\n",
    "    'Valores Ausentes': missing_values,\n",
    "    'Porcentagem (%)': missing_percentages\n",
    "})\n",
    "\n",
    "# Exibindo apenas colunas com valores ausentes\n",
    "print(\"Colunas com valores ausentes:\")\n",
    "missing_df[missing_df['Valores Ausentes'] > 0].sort_values('Valores Ausentes', ascending=False)"
   ]
  },
  {
   "cell_type": "markdown",
   "metadata": {},
   "source": [
    "## 1. Visualização de Padrões de Valores Ausentes"
   ]
  },
  {
   "cell_type": "code",
   "execution_count": null,
   "metadata": {},
   "source": [
    "# Matriz de valores ausentes\n",
    "plt.figure(figsize=(12, 6))\n",
    "msno.matrix(df)\n",
    "plt.title('Matriz de Valores Ausentes')\n",
    "plt.show()\n",
    "\n",
    "# Dendrograma de valores ausentes\n",
    "plt.figure(figsize=(12, 6))\n",
    "msno.dendrogram(df)\n",
    "plt.title('Dendrograma de Valores Ausentes')\n",
    "plt.show()"
   ]
  },
  {
   "cell_type": "markdown",
   "metadata": {},
   "source": [
    "## 2. Estratégias de Imputação"
   ]
  },
  {
   "cell_type": "code",
   "execution_count": null,
   "metadata": {},
   "source": [
    "def impute_numeric(df, strategy='median'):\n",
    "    \"\"\"Imputa valores ausentes em colunas numéricas.\"\"\"\n",
    "    numeric_cols = df.select_dtypes(include=[np.number]).columns\n",
    "    imputer = SimpleImputer(strategy=strategy)\n",
    "    df_numeric = pd.DataFrame(imputer.fit_transform(df[numeric_cols]), columns=numeric_cols)\n",
    "    return df_numeric\n",
    "\n",
    "def impute_categorical(df):\n",
    "    \"\"\"Imputa valores ausentes em colunas categóricas usando o modo.\"\"\"\n",
    "    categorical_cols = df.select_dtypes(include=['object']).columns\n",
    "    imputer = SimpleImputer(strategy='most_frequent')\n",
    "    df_categorical = pd.DataFrame(imputer.fit_transform(df[categorical_cols]), columns=categorical_cols)\n",
    "    return df_categorical\n",
    "\n",
    "# Criando uma cópia do dataframe original\n",
    "df_imputed = df.copy()\n",
    "\n",
    "# Imputando valores numéricos\n",
    "df_numeric_imputed = impute_numeric(df)\n",
    "for col in df_numeric_imputed.columns:\n",
    "    df_imputed[col] = df_numeric_imputed[col]\n",
    "\n",
    "# Imputando valores categóricos\n",
    "df_categorical_imputed = impute_categorical(df)\n",
    "for col in df_categorical_imputed.columns:\n",
    "    df_imputed[col] = df_categorical_imputed[col]"
   ]
  },
  {
   "cell_type": "markdown",
   "metadata": {},
   "source": [
    "## 3. Validação das Imputações"
   ]
  },
  {
   "cell_type": "code",
   "execution_count": null,
   "metadata": {},
   "source": [
    "def compare_distributions(df_original, df_imputed, column):\n",
    "    \"\"\"Compara distribuições antes e depois da imputação.\"\"\"\n",
    "    plt.figure(figsize=(12, 5))\n",
    "    \n",
    "    plt.subplot(1, 2, 1)\n",
    "    sns.histplot(df_original[column].dropna(), kde=True)\n",
    "    plt.title(f'Distribuição Original - {column}')\n",
    "    \n",
    "    plt.subplot(1, 2, 2)\n",
    "    sns.histplot(df_imputed[column], kde=True)\n",
    "    plt.title(f'Distribuição após Imputação - {column}')\n",
    "    \n",
    "    plt.tight_layout()\n",
    "    plt.show()\n",
    "\n",
    "# Selecionando algumas colunas numéricas com valores ausentes para validação\n",
    "numeric_cols_with_missing = df.select_dtypes(include=[np.number]).columns[\n",
    "    df.select_dtypes(include=[np.number]).isnull().any()\n",
    "]\n",
    "\n",
    "for col in numeric_cols_with_missing[:3]:  # Validando as 3 primeiras colunas\n",
    "    compare_distributions(df, df_imputed, col)"
   ]
  },
  {
   "cell_type": "code",
   "execution_count": null,
   "metadata": {},
   "source": [
    "# Salvando o dataset tratado\n",
    "df_imputed.to_csv('../data/ames_housing_treated.csv', index=False)\n",
    "print(\"Dataset tratado salvo com sucesso!\")"
   ]
  }
 ],
 "metadata": {
  "kernelspec": {
   "display_name": "Python 3",
   "language": "python",
   "name": "python3"
  },
  "language_info": {
   "codemirror_mode": {
    "name": "ipython",
    "version": 3
   },
   "file_extension": ".py",
   "mimetype": "text/x-python",
   "name": "python",
   "nbconvert_exporter": "python",
   "pygments_lexer": "ipython3",
   "version": "3.8.0"
  }
 },
 "nbformat": 4,
 "nbformat_minor": 4
}
