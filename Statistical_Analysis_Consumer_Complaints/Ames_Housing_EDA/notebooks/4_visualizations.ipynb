{
 "cells": [
  {
   "cell_type": "markdown",
   "metadata": {},
   "source": [
    "# 4. Visualizações - Ames Housing Dataset\n",
    "\n",
    "Este notebook foca em criar visualizações informativas sobre o dataset, incluindo:\n",
    "1. Relações entre variáveis numéricas\n",
    "2. Análise de variáveis categóricas\n",
    "3. Visualizações geográficas\n",
    "4. Análise temporal"
   ]
  },
  {
   "cell_type": "code",
   "execution_count": null,
   "metadata": {},
   "source": [
    "# Importando bibliotecas necessárias\n",
    "import pandas as pd\n",
    "import numpy as np\n",
    "import matplotlib.pyplot as plt\n",
    "import seaborn as sns\n",
    "import plotly.express as px\n",
    "import plotly.graph_objects as go\n",
    "\n",
    "# Configurações de visualização\n",
    "plt.style.use('seaborn')\n",
    "%matplotlib inline"
   ]
  },
  {
   "cell_type": "code",
   "execution_count": null,
   "metadata": {},
   "source": [
    "# Carregando os dados tratados\n",
    "df = pd.read_csv('../data/ames_housing_treated.csv')"
   ]
  },
  {
   "cell_type": "markdown",
   "metadata": {},
   "source": [
    "## 1. Relações entre Variáveis Numéricas"
   ]
  },
  {
   "cell_type": "code",
   "execution_count": null,
   "metadata": {},
   "source": [
    "# Scatter plots das principais variáveis numéricas vs Preço\n",
    "numeric_cols = ['GrLivArea', 'TotalBsmtSF', 'GarageArea', 'YearBuilt']\n",
    "\n",
    "fig = plt.figure(figsize=(15, 10))\n",
    "for i, col in enumerate(numeric_cols, 1):\n",
    "    plt.subplot(2, 2, i)\n",
    "    plt.scatter(df[col], df['SalePrice'], alpha=0.5)\n",
    "    plt.xlabel(col)\n",
    "    plt.ylabel('Preço de Venda')\n",
    "    plt.title(f'Preço vs {col}')\n",
    "\n",
    "plt.tight_layout()\n",
    "plt.show()"
   ]
  },
  {
   "cell_type": "markdown",
   "metadata": {},
   "source": [
    "## 2. Análise de Variáveis Categóricas"
   ]
  },
  {
   "cell_type": "code",
   "execution_count": null,
   "metadata": {},
   "source": [
    "def plot_categorical_analysis(df, column):\n",
    "    plt.figure(figsize=(15, 5))\n",
    "    \n",
    "    # Contagem de categorias\n",
    "    plt.subplot(1, 2, 1)\n",
    "    sns.countplot(data=df, y=column, order=df[column].value_counts().index[:10])\n",
    "    plt.title(f'Top 10 Categorias - {column}')\n",
    "    \n",
    "    # Boxplot do preço por categoria\n",
    "    plt.subplot(1, 2, 2)\n",
    "    sns.boxplot(data=df, y=column, x='SalePrice', \n",
    "                order=df.groupby(column)['SalePrice'].median().sort_values(ascending=False).index[:10])\n",
    "    plt.title(f'Distribuição de Preços por {column}')\n",
    "    \n",
    "    plt.tight_layout()\n",
    "    plt.show()\n",
    "\n",
    "# Analisando principais variáveis categóricas\n",
    "categorical_cols = ['Neighborhood', 'HouseStyle', 'ExterQual', 'KitchenQual']\n",
    "for col in categorical_cols:\n",
    "    plot_categorical_analysis(df, col)"
   ]
  },
  {
   "cell_type": "markdown",
   "metadata": {},
   "source": [
    "## 3. Análise Temporal"
   ]
  },
  {
   "cell_type": "code",
   "execution_count": null,
   "metadata": {},
   "source": [
    "# Evolução do preço médio por ano de construção\n",
    "year_price = df.groupby('YearBuilt')['SalePrice'].agg(['mean', 'count']).reset_index()\n",
    "\n",
    "fig = go.Figure()\n",
    "fig.add_trace(go.Scatter(\n",
    "    x=year_price['YearBuilt'],\n",
    "    y=year_price['mean'],\n",
    "    mode='lines+markers',\n",
    "    name='Preço Médio',\n",
    "    marker=dict(size=year_price['count']/5)  # Tamanho do marcador proporcional à quantidade\n",
    "))\n",
    "\n",
    "fig.update_layout(\n",
    "    title='Evolução do Preço Médio por Ano de Construção',\n",
    "    xaxis_title='Ano de Construção',\n",
    "    yaxis_title='Preço Médio',\n",
    "    showlegend=True\n",
    ")\n",
    "\n",
    "fig.show()"
   ]
  },
  {
   "cell_type": "markdown",
   "metadata": {},
   "source": [
    "## 4. Análise de Características da Casa"
   ]
  },
  {
   "cell_type": "code",
   "execution_count": null,
   "metadata": {},
   "source": [
    "# Criando um gráfico de radar para comparar casas de diferentes faixas de preço\n",
    "def create_price_categories(price):\n",
    "    if price < df['SalePrice'].quantile(0.33):\n",
    "        return 'Baixo'\n",
    "    elif price < df['SalePrice'].quantile(0.67):\n",
    "        return 'Médio'\n",
    "    else:\n",
    "        return 'Alto'\n",
    "\n",
    "df['PriceCategory'] = df['SalePrice'].apply(create_price_categories)\n",
    "\n",
    "# Selecionando características para o gráfico de radar\n",
    "features = ['GrLivArea', 'TotalBsmtSF', 'GarageArea', 'LotArea']\n",
    "\n",
    "# Calculando médias por categoria de preço\n",
    "radar_data = df.groupby('PriceCategory')[features].mean()\n",
    "\n",
    "# Normalizando os dados\n",
    "radar_data_norm = (radar_data - radar_data.min()) / (radar_data.max() - radar_data.min())\n",
    "\n",
    "# Criando o gráfico de radar\n",
    "fig = go.Figure()\n",
    "\n",
    "for category in radar_data_norm.index:\n",
    "    fig.add_trace(go.Scatterpolar(\n",
    "        r=radar_data_norm.loc[category],\n",
    "        theta=features,\n",
    "        fill='toself',\n",
    "        name=category\n",
    "    ))\n",
    "\n",
    "fig.update_layout(\n",
    "    polar=dict(\n",
    "        radialaxis=dict(\n",
    "            visible=True,\n",
    "            range=[0, 1]\n",
    "        )),\n",
    "    showlegend=True,\n",
    "    title='Características da Casa por Faixa de Preço'\n",
    ")\n",
    "\n",
    "fig.show()"
   ]
  }
 ],
 "metadata": {
  "kernelspec": {
   "display_name": "Python 3",
   "language": "python",
   "name": "python3"
  },
  "language_info": {
   "codemirror_mode": {
    "name": "ipython",
    "version": 3
   },
   "file_extension": ".py",
   "mimetype": "text/x-python",
   "name": "python",
   "nbconvert_exporter": "python",
   "pygments_lexer": "ipython3",
   "version": "3.8.0"
  }
 },
 "nbformat": 4,
 "nbformat_minor": 4
}
