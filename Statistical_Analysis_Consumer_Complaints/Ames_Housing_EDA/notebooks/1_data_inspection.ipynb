{
 "cells": [
  {
   "cell_type": "markdown",
   "metadata": {},
   "source": [
    "# 1. Inspeção Inicial dos Dados - Ames Housing Dataset\n",
    "\n",
    "Este notebook realiza a inspeção inicial do conjunto de dados Ames Housing, focando em:\n",
    "1. Carregamento dos dados\n",
    "2. Visão geral da estrutura do dataset\n",
    "3. Análise inicial dos tipos de dados\n",
    "4. Verificação de valores ausentes\n",
    "5. Estatísticas básicas"
   ]
  },
  {
   "cell_type": "code",
   "execution_count": null,
   "metadata": {},
   "source": [
    "# Importando as bibliotecas necessárias\n",
    "import pandas as pd\n",
    "import numpy as np\n",
    "import matplotlib.pyplot as plt\n",
    "import seaborn as sns\n",
    "import missingno as msno\n",
    "\n",
    "# Configurações de visualização\n",
    "plt.style.use('seaborn')\n",
    "pd.set_option('display.max_columns', None)\n",
    "%matplotlib inline"
   ]
  },
  {
   "cell_type": "code",
   "execution_count": null,
   "metadata": {},
   "source": [
    "# Carregando os dados\n",
    "df = pd.read_csv('../data/ames_housing.csv')\n",
    "\n",
    "# Exibindo as primeiras linhas do dataset\n",
    "print(\"Primeiras 5 linhas do dataset:\")\n",
    "df.head()"
   ]
  },
  {
   "cell_type": "code",
   "execution_count": null,
   "metadata": {},
   "source": [
    "# Informações gerais sobre o dataset\n",
    "print(\"\\nInformações gerais sobre o dataset:\")\n",
    "df.info()"
   ]
  },
  {
   "cell_type": "code",
   "execution_count": null,
   "metadata": {},
   "source": [
    "# Estatísticas descritivas básicas\n",
    "print(\"\\nEstatísticas descritivas das variáveis numéricas:\")\n",
    "df.describe()"
   ]
  },
  {
   "cell_type": "code",
   "execution_count": null,
   "metadata": {},
   "source": [
    "# Análise de valores ausentes\n",
    "missing_values = df.isnull().sum()\n",
    "missing_percentages = (missing_values / len(df)) * 100\n",
    "\n",
    "missing_df = pd.DataFrame({\n",
    "    'Valores Ausentes': missing_values,\n",
    "    'Porcentagem (%)': missing_percentages\n",
    "})\n",
    "\n",
    "print(\"\\nAnálise de valores ausentes:\")\n",
    "print(missing_df[missing_df['Valores Ausentes'] > 0].sort_values('Valores Ausentes', ascending=False))"
   ]
  },
  {
   "cell_type": "code",
   "execution_count": null,
   "metadata": {},
   "source": [
    "# Visualização de valores ausentes\n",
    "plt.figure(figsize=(12, 6))\n",
    "msno.matrix(df)\n",
    "plt.title('Matriz de Valores Ausentes')\n",
    "plt.show()"
   ]
  },
  {
   "cell_type": "code",
   "execution_count": null,
   "metadata": {},
   "source": [
    "# Tipos de dados por coluna\n",
    "print(\"\\nTipos de dados por coluna:\")\n",
    "df.dtypes.value_counts().to_frame('Contagem')"
   ]
  }
 ],
 "metadata": {
  "kernelspec": {
   "display_name": "Python 3",
   "language": "python",
   "name": "python3"
  },
  "language_info": {
   "codemirror_mode": {
    "name": "ipython",
    "version": 3
   },
   "file_extension": ".py",
   "mimetype": "text/x-python",
   "name": "python",
   "nbconvert_exporter": "python",
   "pygments_lexer": "ipython3",
   "version": "3.8.0"
  }
 },
 "nbformat": 4,
 "nbformat_minor": 4
}
