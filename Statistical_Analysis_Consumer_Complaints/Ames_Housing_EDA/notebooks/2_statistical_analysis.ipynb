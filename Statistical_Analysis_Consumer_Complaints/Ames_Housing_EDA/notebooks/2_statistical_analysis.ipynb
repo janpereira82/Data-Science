{
 "cells": [
  {
   "cell_type": "markdown",
   "metadata": {},
   "source": [
    "# 2. Análise Estatística - Ames Housing Dataset\n",
    "\n",
    "Este notebook realiza uma análise estatística detalhada do conjunto de dados, focando em:\n",
    "1. Distribuição da variável alvo (SalePrice)\n",
    "2. Correlações entre variáveis numéricas\n",
    "3. Análise de outliers\n",
    "4. Testes estatísticos básicos"
   ]
  },
  {
   "cell_type": "code",
   "execution_count": null,
   "metadata": {},
   "source": [
    "# Importando bibliotecas necessárias\n",
    "import pandas as pd\n",
    "import numpy as np\n",
    "import matplotlib.pyplot as plt\n",
    "import seaborn as sns\n",
    "from scipy import stats\n",
    "\n",
    "# Configurações de visualização\n",
    "plt.style.use('seaborn')\n",
    "pd.set_option('display.max_columns', None)\n",
    "%matplotlib inline"
   ]
  },
  {
   "cell_type": "code",
   "execution_count": null,
   "metadata": {},
   "source": [
    "# Carregando os dados\n",
    "df = pd.read_csv('../data/ames_housing.csv')\n",
    "\n",
    "# Selecionando apenas variáveis numéricas\n",
    "numeric_cols = df.select_dtypes(include=[np.number]).columns\n",
    "df_numeric = df[numeric_cols]"
   ]
  },
  {
   "cell_type": "markdown",
   "metadata": {},
   "source": [
    "## 1. Análise da Variável Alvo (SalePrice)"
   ]
  },
  {
   "cell_type": "code",
   "execution_count": null,
   "metadata": {},
   "source": [
    "# Distribuição do preço de venda\n",
    "plt.figure(figsize=(12, 6))\n",
    "\n",
    "plt.subplot(1, 2, 1)\n",
    "sns.histplot(df['SalePrice'], kde=True)\n",
    "plt.title('Distribuição do Preço de Venda')\n",
    "plt.xlabel('Preço')\n",
    "\n",
    "plt.subplot(1, 2, 2)\n",
    "sns.histplot(np.log1p(df['SalePrice']), kde=True)\n",
    "plt.title('Distribuição do Log do Preço de Venda')\n",
    "plt.xlabel('Log(Preço)')\n",
    "\n",
    "plt.tight_layout()\n",
    "plt.show()\n",
    "\n",
    "# Estatísticas descritivas do preço\n",
    "print(\"\\nEstatísticas descritivas do Preço de Venda:\")\n",
    "print(df['SalePrice'].describe())"
   ]
  },
  {
   "cell_type": "markdown",
   "metadata": {},
   "source": [
    "## 2. Análise de Correlações"
   ]
  },
  {
   "cell_type": "code",
   "execution_count": null,
   "metadata": {},
   "source": [
    "# Matriz de correlação\n",
    "correlation_matrix = df_numeric.corr()\n",
    "\n",
    "# Plotando o mapa de calor das correlações\n",
    "plt.figure(figsize=(15, 12))\n",
    "sns.heatmap(correlation_matrix, \n",
    "            cmap='coolwarm',\n",
    "            center=0,\n",
    "            annot=False)\n",
    "plt.title('Mapa de Calor - Correlações entre Variáveis Numéricas')\n",
    "plt.show()\n",
    "\n",
    "# Top 10 correlações com o preço de venda\n",
    "price_correlations = correlation_matrix['SalePrice'].sort_values(ascending=False)\n",
    "print(\"\\nTop 10 correlações com Preço de Venda:\")\n",
    "print(price_correlations[:10])"
   ]
  },
  {
   "cell_type": "markdown",
   "metadata": {},
   "source": [
    "## 3. Análise de Outliers"
   ]
  },
  {
   "cell_type": "code",
   "execution_count": null,
   "metadata": {},
   "source": [
    "def plot_boxplots(df, columns, ncols=3):\n",
    "    nrows = len(columns) // ncols + (len(columns) % ncols > 0)\n",
    "    fig, axes = plt.subplots(nrows, ncols, figsize=(15, 5*nrows))\n",
    "    axes = axes.ravel()\n",
    "    \n",
    "    for idx, col in enumerate(columns):\n",
    "        sns.boxplot(data=df, y=col, ax=axes[idx])\n",
    "        axes[idx].set_title(f'Boxplot - {col}')\n",
    "    \n",
    "    for idx in range(len(columns), len(axes)):\n",
    "        fig.delaxes(axes[idx])\n",
    "    \n",
    "    plt.tight_layout()\n",
    "    plt.show()\n",
    "\n",
    "# Selecionando as variáveis numéricas mais importantes\n",
    "important_numeric_cols = price_correlations[:6].index\n",
    "plot_boxplots(df, important_numeric_cols)"
   ]
  },
  {
   "cell_type": "markdown",
   "metadata": {},
   "source": [
    "## 4. Testes Estatísticos"
   ]
  },
  {
   "cell_type": "code",
   "execution_count": null,
   "metadata": {},
   "source": [
    "# Teste de normalidade para o preço de venda\n",
    "_, p_value = stats.normaltest(df['SalePrice'])\n",
    "print(f\"Teste de normalidade para Preço de Venda (p-value): {p_value:.10f}\")\n",
    "\n",
    "# Teste de normalidade para o log do preço de venda\n",
    "_, p_value_log = stats.normaltest(np.log1p(df['SalePrice']))\n",
    "print(f\"Teste de normalidade para Log(Preço de Venda) (p-value): {p_value_log:.10f}\")"
   ]
  }
 ],
 "metadata": {
  "kernelspec": {
   "display_name": "Python 3",
   "language": "python",
   "name": "python3"
  },
  "language_info": {
   "codemirror_mode": {
    "name": "ipython",
    "version": 3
   },
   "file_extension": ".py",
   "mimetype": "text/x-python",
   "name": "python",
   "nbconvert_exporter": "python",
   "pygments_lexer": "ipython3",
   "version": "3.8.0"
  }
 },
 "nbformat": 4,
 "nbformat_minor": 4
}
