{
 "cells": [
  {
   "cell_type": "markdown",
   "metadata": {},
   "source": [
    "# 2. Análise Estatística dos Dados PISA\n",
    "\n",
    "Este notebook realiza análises estatísticas aprofundadas dos dados do PISA.\n",
    "\n",
    "## Objetivos\n",
    "1. Realizar testes de normalidade\n",
    "2. Analisar diferenças entre grupos\n",
    "3. Investigar relações entre variáveis\n",
    "4. Identificar fatores significativos\n",
    "5. Criar visualizações estatísticas"
   ]
  },
  {
   "cell_type": "code",
   "execution_count": null,
   "metadata": {},
   "source": [
    "import pandas as pd\n",
    "import numpy as np\n",
    "import matplotlib.pyplot as plt\n",
    "import seaborn as sns\n",
    "from scipy import stats\n",
    "import statsmodels.api as sm\n",
    "from statsmodels.stats.multicomp import pairwise_tukeyhsd\n",
    "\n",
    "%matplotlib inline\n",
    "plt.style.use('seaborn')\n",
    "pd.set_option('display.max_columns', None)"
   ]
  },
  {
   "cell_type": "markdown",
   "metadata": {},
   "source": [
    "## 1. Carregamento e Preparação dos Dados"
   ]
  },
  {
   "cell_type": "code",
   "execution_count": null,
   "metadata": {},
   "source": [
    "# Carrega dados\n",
    "df = pd.read_csv('../data/economics_and_education_dataset_CSV.csv')\n",
    "\n",
    "# Remove linhas com valores ausentes nas variáveis principais\n",
    "main_vars = ['rating', 'expenditure_on _education_pct_gdp', 'gdp_per_capita_ppp', 'gini_index']\n",
    "df_clean = df.dropna(subset=main_vars)\n",
    "\n",
    "print('Shape após limpeza:', df_clean.shape)"
   ]
  },
  {
   "cell_type": "markdown",
   "metadata": {},
   "source": [
    "## 2. Testes de Normalidade"
   ]
  },
  {
   "cell_type": "code",
   "execution_count": null,
   "metadata": {},
   "source": [
    "def test_normality(data, var_name):\n",
    "    \"\"\"Realiza teste de normalidade e cria Q-Q plot.\"\"\"\n",
    "    # Teste de Shapiro-Wilk\n",
    "    stat, p_value = stats.shapiro(data)\n",
    "    \n",
    "    # Q-Q Plot\n",
    "    fig, (ax1, ax2) = plt.subplots(1, 2, figsize=(12, 4))\n",
    "    \n",
    "    # Histograma\n",
    "    sns.histplot(data=data, ax=ax1)\n",
    "    ax1.set_title(f'Distribuição de {var_name}')\n",
    "    \n",
    "    # Q-Q Plot\n",
    "    stats.probplot(data, dist=\"norm\", plot=ax2)\n",
    "    ax2.set_title('Q-Q Plot')\n",
    "    \n",
    "    plt.tight_layout()\n",
    "    plt.show()\n",
    "    \n",
    "    print(f'Teste de Normalidade para {var_name}:')\n",
    "    print(f'Estatística: {stat:.4f}')\n",
    "    print(f'P-valor: {p_value:.4f}')\n",
    "    print('Conclusão:', 'Normal' if p_value > 0.05 else 'Não Normal')\n",
    "    print('---')\n",
    "\n",
    "# Testa normalidade das principais variáveis\n",
    "for var in main_vars:\n",
    "    test_normality(df_clean[var], var)"
   ]
  },
  {
   "cell_type": "markdown",
   "metadata": {},
   "source": [
    "## 3. Análise de Diferenças entre Grupos"
   ]
  },
  {
   "cell_type": "code",
   "execution_count": null,
   "metadata": {},
   "source": [
    "# ANOVA: Diferenças entre países\n",
    "f_stat, p_val = stats.f_oneway(*[group['rating'].values for name, group in df_clean.groupby('country')])\n",
    "\n",
    "print('ANOVA - Diferenças entre Países')\n",
    "print(f'F-statistic: {f_stat:.4f}')\n",
    "print(f'P-valor: {p_val:.4f}')\n",
    "\n",
    "# Teste t: Diferenças entre sexos\n",
    "boys = df_clean[df_clean['sex'] == 'BOY']['rating']\n",
    "girls = df_clean[df_clean['sex'] == 'GIRL']['rating']\n",
    "t_stat, p_val = stats.ttest_ind(boys, girls)\n",
    "\n",
    "print('\\nTeste t - Diferenças entre Sexos')\n",
    "print(f'T-statistic: {t_stat:.4f}')\n",
    "print(f'P-valor: {p_val:.4f}')"
   ]
  },
  {
   "cell_type": "markdown",
   "metadata": {},
   "source": [
    "## 4. Análise de Correlação e Regressão"
   ]
  },
  {
   "cell_type": "code",
   "execution_count": null,
   "metadata": {},
   "source": [
    "# Matriz de correlação com p-valores\n",
    "def correlation_with_pval(data, vars_to_analyze):\n",
    "    correlations = pd.DataFrame(index=vars_to_analyze, columns=vars_to_analyze)\n",
    "    p_values = pd.DataFrame(index=vars_to_analyze, columns=vars_to_analyze)\n",
    "    \n",
    "    for var1 in vars_to_analyze:\n",
    "        for var2 in vars_to_analyze:\n",
    "            corr, p_val = stats.pearsonr(data[var1], data[var2])\n",
    "            correlations.loc[var1, var2] = corr\n",
    "            p_values.loc[var1, var2] = p_val\n",
    "    \n",
    "    return correlations, p_values\n",
    "\n",
    "# Calcula correlações e p-valores\n",
    "corr_matrix, p_matrix = correlation_with_pval(df_clean, main_vars)\n",
    "\n",
    "print('Matriz de Correlação:')\n",
    "print(corr_matrix.round(3))\n",
    "print('\\nMatriz de P-valores:')\n",
    "print(p_matrix.round(3))"
   ]
  },
  {
   "cell_type": "markdown",
   "metadata": {},
   "source": [
    "## 5. Análise de Tendências"
   ]
  },
  {
   "cell_type": "code",
   "execution_count": null,
   "metadata": {},
   "source": [
    "# Análise de tendência temporal\n",
    "yearly_means = df_clean.groupby('time')['rating'].mean()\n",
    "\n",
    "# Teste de tendência\n",
    "slope, intercept, r_value, p_value, std_err = stats.linregress(range(len(yearly_means)), yearly_means)\n",
    "\n",
    "# Plota tendência\n",
    "plt.figure(figsize=(10, 6))\n",
    "plt.plot(yearly_means.index, yearly_means.values, 'o-')\n",
    "plt.plot(yearly_means.index, intercept + slope * np.arange(len(yearly_means)), 'r--')\n",
    "plt.title('Tendência Temporal das Notas PISA')\n",
    "plt.xlabel('Ano')\n",
    "plt.ylabel('Nota Média')\n",
    "plt.grid(True)\n",
    "\n",
    "print('Análise de Tendência:')\n",
    "print(f'Inclinação: {slope:.4f}')\n",
    "print(f'R²: {r_value**2:.4f}')\n",
    "print(f'P-valor: {p_value:.4f}')"
   ]
  },
  {
   "cell_type": "markdown",
   "metadata": {},
   "source": [
    "## 6. Análise de Variância Multifatorial"
   ]
  },
  {
   "cell_type": "code",
   "execution_count": null,
   "metadata": {},
   "source": [
    "# Categoriza variáveis contínuas\n",
    "df_clean['gdp_level'] = pd.qcut(df_clean['gdp_per_capita_ppp'], q=3, labels=['Low', 'Medium', 'High'])\n",
    "df_clean['education_spending_level'] = pd.qcut(df_clean['expenditure_on _education_pct_gdp'], q=3, labels=['Low', 'Medium', 'High'])\n",
    "\n",
    "# ANOVA multifatorial\n",
    "from statsmodels.stats.anova import anova_lm\n",
    "from statsmodels.formula.api import ols\n",
    "\n",
    "model = ols('rating ~ C(gdp_level) + C(education_spending_level) + C(gdp_level):C(education_spending_level)',\n",
    "            data=df_clean).fit()\n",
    "anova_table = anova_lm(model, typ=2)\n",
    "\n",
    "print('ANOVA Multifatorial:')\n",
    "print(anova_table)\n",
    "\n",
    "# Visualiza interações\n",
    "plt.figure(figsize=(10, 6))\n",
    "sns.boxplot(x='gdp_level', y='rating', hue='education_spending_level', data=df_clean)\n",
    "plt.title('Interação entre PIB e Gastos em Educação')\n",
    "plt.show()"
   ]
  }
 ],
 "metadata": {
  "kernelspec": {
   "display_name": "Python 3",
   "language": "python",
   "name": "python3"
  },
  "language_info": {
   "codemirror_mode": {
    "name": "ipython",
    "version": 3
   },
   "file_extension": ".py",
   "mimetype": "text/x-python",
   "name": "python",
   "nbconvert_exporter": "python",
   "pygments_lexer": "ipython3",
   "version": "3.8.0"
  }
 },
 "nbformat": 4,
 "nbformat_minor": 4
}
