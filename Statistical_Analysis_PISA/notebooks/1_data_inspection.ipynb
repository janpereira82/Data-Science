{
 "cells": [
  {
   "cell_type": "markdown",
   "metadata": {},
   "source": [
    "# 1. Inspeção e Análise Inicial dos Dados PISA\n",
    "\n",
    "Este notebook realiza a análise inicial do dataset PISA, focando em indicadores econômicos e educacionais.\n",
    "\n",
    "## Objetivos\n",
    "1. Carregar e examinar a estrutura dos dados\n",
    "2. Analisar distribuições das variáveis principais\n",
    "3. Identificar e tratar valores ausentes\n",
    "4. Criar visualizações iniciais\n",
    "5. Calcular estatísticas descritivas básicas"
   ]
  },
  {
   "cell_type": "code",
   "execution_count": null,
   "metadata": {},
   "source": [
    "import pandas as pd\n",
    "import numpy as np\n",
    "import matplotlib.pyplot as plt\n",
    "import seaborn as sns\n",
    "\n",
    "%matplotlib inline\n",
    "plt.style.use('seaborn')\n",
    "pd.set_option('display.max_columns', None)"
   ]
  },
  {
   "cell_type": "markdown",
   "metadata": {},
   "source": [
    "## 1. Carregamento dos Dados"
   ]
  },
  {
   "cell_type": "code",
   "execution_count": null,
   "metadata": {},
   "source": [
    "# Carrega o dataset\n",
    "df = pd.read_csv('../data/economics_and_education_dataset_CSV.csv')\n",
    "\n",
    "# Exibe informações básicas\n",
    "print('Shape:', df.shape)\n",
    "print('\\nInformações do Dataset:')\n",
    "df.info()"
   ]
  },
  {
   "cell_type": "markdown",
   "metadata": {},
   "source": [
    "## 2. Análise de Valores Ausentes"
   ]
  },
  {
   "cell_type": "code",
   "execution_count": null,
   "metadata": {},
   "source": [
    "# Calcula percentual de valores ausentes\n",
    "missing_values = df.isnull().sum()\n",
    "missing_pct = (missing_values / len(df)) * 100\n",
    "\n",
    "# Cria DataFrame com informações sobre valores ausentes\n",
    "missing_df = pd.DataFrame({\n",
    "    'Missing Values': missing_values,\n",
    "    'Percentage': missing_pct\n",
    "})\n",
    "\n",
    "# Exibe apenas colunas com valores ausentes\n",
    "print('Colunas com valores ausentes:')\n",
    "print(missing_df[missing_df['Missing Values'] > 0].sort_values('Percentage', ascending=False))"
   ]
  },
  {
   "cell_type": "markdown",
   "metadata": {},
   "source": [
    "## 3. Estatísticas Descritivas"
   ]
  },
  {
   "cell_type": "code",
   "execution_count": null,
   "metadata": {},
   "source": [
    "# Estatísticas numéricas\n",
    "print('Estatísticas Descritivas:')\n",
    "print(df.describe())\n",
    "\n",
    "# Contagem de valores únicos em variáveis categóricas\n",
    "categorical_cols = ['country', 'sex']\n",
    "for col in categorical_cols:\n",
    "    print(f'\\nDistribuição de {col}:')\n",
    "    print(df[col].value_counts())"
   ]
  },
  {
   "cell_type": "markdown",
   "metadata": {},
   "source": [
    "## 4. Visualizações Iniciais"
   ]
  },
  {
   "cell_type": "code",
   "execution_count": null,
   "metadata": {},
   "source": [
    "# Configuração para múltiplos gráficos\n",
    "fig, axes = plt.subplots(2, 2, figsize=(15, 12))\n",
    "\n",
    "# 1. Distribuição das notas\n",
    "sns.histplot(data=df, x='rating', bins=30, ax=axes[0,0])\n",
    "axes[0,0].set_title('Distribuição das Notas PISA')\n",
    "\n",
    "# 2. Gastos em educação vs. Notas\n",
    "sns.scatterplot(\n",
    "    data=df,\n",
    "    x='expenditure_on _education_pct_gdp',\n",
    "    y='rating',\n",
    "    ax=axes[0,1]\n",
    ")\n",
    "axes[0,1].set_title('Gastos em Educação vs. Notas')\n",
    "\n",
    "# 3. PIB per capita vs. Notas\n",
    "sns.scatterplot(\n",
    "    data=df,\n",
    "    x='gdp_per_capita_ppp',\n",
    "    y='rating',\n",
    "    ax=axes[1,0]\n",
    ")\n",
    "axes[1,0].set_title('PIB per capita vs. Notas')\n",
    "\n",
    "# 4. Boxplot de notas por sexo\n",
    "sns.boxplot(\n",
    "    data=df,\n",
    "    x='sex',\n",
    "    y='rating',\n",
    "    ax=axes[1,1]\n",
    ")\n",
    "axes[1,1].set_title('Notas por Sexo')\n",
    "\n",
    "plt.tight_layout()\n",
    "plt.show()"
   ]
  },
  {
   "cell_type": "markdown",
   "metadata": {},
   "source": [
    "## 5. Correlações entre Variáveis"
   ]
  },
  {
   "cell_type": "code",
   "execution_count": null,
   "metadata": {},
   "source": [
    "# Seleciona apenas variáveis numéricas\n",
    "numeric_cols = df.select_dtypes(include=[np.number]).columns\n",
    "\n",
    "# Calcula correlações\n",
    "correlations = df[numeric_cols].corr()\n",
    "\n",
    "# Plota mapa de calor\n",
    "plt.figure(figsize=(12, 8))\n",
    "sns.heatmap(\n",
    "    correlations,\n",
    "    annot=True,\n",
    "    cmap='coolwarm',\n",
    "    center=0,\n",
    "    fmt='.2f'\n",
    ")\n",
    "plt.title('Mapa de Correlações')\n",
    "plt.show()"
   ]
  },
  {
   "cell_type": "markdown",
   "metadata": {},
   "source": [
    "## 6. Análise Temporal"
   ]
  },
  {
   "cell_type": "code",
   "execution_count": null,
   "metadata": {},
   "source": [
    "# Calcula médias por ano\n",
    "yearly_stats = df.groupby('time').agg({\n",
    "    'rating': ['mean', 'std'],\n",
    "    'expenditure_on _education_pct_gdp': 'mean',\n",
    "    'gdp_per_capita_ppp': 'mean'\n",
    "}).round(2)\n",
    "\n",
    "print('Estatísticas por Ano:')\n",
    "print(yearly_stats)\n",
    "\n",
    "# Plota evolução temporal\n",
    "fig, ax = plt.subplots(figsize=(12, 6))\n",
    "yearly_stats['rating']['mean'].plot(marker='o')\n",
    "plt.title('Evolução das Notas PISA ao Longo do Tempo')\n",
    "plt.xlabel('Ano')\n",
    "plt.ylabel('Nota Média')\n",
    "plt.grid(True)\n",
    "plt.show()"
   ]
  }
 ],
 "metadata": {
  "kernelspec": {
   "display_name": "Python 3",
   "language": "python",
   "name": "python3"
  },
  "language_info": {
   "codemirror_mode": {
    "name": "ipython",
    "version": 3
   },
   "file_extension": ".py",
   "mimetype": "text/x-python",
   "name": "python",
   "nbconvert_exporter": "python",
   "pygments_lexer": "ipython3",
   "version": "3.8.0"
  }
 },
 "nbformat": 4,
 "nbformat_minor": 4
}
