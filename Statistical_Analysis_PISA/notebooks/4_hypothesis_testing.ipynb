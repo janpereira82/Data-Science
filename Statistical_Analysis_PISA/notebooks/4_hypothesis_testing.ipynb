{
 "cells": [
  {
   "cell_type": "markdown",
   "metadata": {},
   "source": [
    "# 4. Testes de Hipóteses nos Dados PISA\n",
    "\n",
    "Este notebook realiza testes de hipóteses para investigar relações significativas nos dados.\n",
    "\n",
    "## Objetivos\n",
    "1. Testar diferenças entre grupos\n",
    "2. Avaliar correlações significativas\n",
    "3. Investigar tendências temporais\n",
    "4. Analisar efeitos de políticas educacionais\n",
    "5. Validar pressupostos estatísticos"
   ]
  },
  {
   "cell_type": "code",
   "execution_count": null,
   "metadata": {},
   "source": [
    "import pandas as pd\n",
    "import numpy as np\n",
    "import matplotlib.pyplot as plt\n",
    "import seaborn as sns\n",
    "from scipy import stats\n",
    "import statsmodels.api as sm\n",
    "from statsmodels.stats.multicomp import pairwise_tukeyhsd\n",
    "\n",
    "%matplotlib inline\n",
    "plt.style.use('seaborn')\n",
    "pd.set_option('display.max_columns', None)"
   ]
  },
  {
   "cell_type": "markdown",
   "metadata": {},
   "source": [
    "## 1. Carregamento e Preparação dos Dados"
   ]
  },
  {
   "cell_type": "code",
   "execution_count": null,
   "metadata": {},
   "source": [
    "# Carrega dados\n",
    "df = pd.read_csv('../data/economics_and_education_dataset_CSV.csv')\n",
    "\n",
    "# Remove linhas com valores ausentes nas variáveis principais\n",
    "main_vars = ['rating', 'expenditure_on _education_pct_gdp', 'gdp_per_capita_ppp', 'gini_index']\n",
    "df_clean = df.dropna(subset=main_vars)\n",
    "\n",
    "# Cria categorias para análise\n",
    "df_clean['gdp_category'] = pd.qcut(df_clean['gdp_per_capita_ppp'], q=3, labels=['Low', 'Medium', 'High'])\n",
    "df_clean['education_spending_category'] = pd.qcut(df_clean['expenditure_on _education_pct_gdp'], q=3, labels=['Low', 'Medium', 'High'])\n",
    "\n",
    "print('Shape após limpeza:', df_clean.shape)"
   ]
  },
  {
   "cell_type": "markdown",
   "metadata": {},
   "source": [
    "## 2. Teste de Hipótese 1: Diferença entre Sexos"
   ]
  },
  {
   "cell_type": "code",
   "execution_count": null,
   "metadata": {},
   "source": [
    "def analyze_gender_difference(data):\n",
    "    \"\"\"Analisa diferença de desempenho entre sexos.\"\"\"\n",
    "    # Separa grupos\n",
    "    boys = data[data['sex'] == 'BOY']['rating']\n",
    "    girls = data[data['sex'] == 'GIRL']['rating']\n",
    "    \n",
    "    # Teste t\n",
    "    t_stat, p_val = stats.ttest_ind(boys, girls)\n",
    "    \n",
    "    # Estatísticas descritivas\n",
    "    stats_df = pd.DataFrame({\n",
    "        'Média': [boys.mean(), girls.mean()],\n",
    "        'Desvio Padrão': [boys.std(), girls.std()],\n",
    "        'N': [len(boys), len(girls)]\n",
    "    }, index=['Meninos', 'Meninas'])\n",
    "    \n",
    "    # Visualização\n",
    "    plt.figure(figsize=(10, 6))\n",
    "    sns.boxplot(x='sex', y='rating', data=data)\n",
    "    plt.title('Distribuição das Notas por Sexo')\n",
    "    plt.show()\n",
    "    \n",
    "    print('Estatísticas Descritivas:')\n",
    "    print(stats_df.round(2))\n",
    "    print('\\nResultados do Teste t:')\n",
    "    print(f'T-statistic: {t_stat:.4f}')\n",
    "    print(f'P-valor: {p_val:.4f}')\n",
    "    print('Conclusão:', 'Diferença significativa' if p_val < 0.05 else 'Sem diferença significativa')\n",
    "\n",
    "analyze_gender_difference(df_clean)"
   ]
  },
  {
   "cell_type": "markdown",
   "metadata": {},
   "source": [
    "## 3. Teste de Hipótese 2: Efeito do PIB"
   ]
  },
  {
   "cell_type": "code",
   "execution_count": null,
   "metadata": {},
   "source": [
    "def analyze_gdp_effect(data):\n",
    "    \"\"\"Analisa efeito do PIB no desempenho.\"\"\"\n",
    "    # ANOVA\n",
    "    groups = [group['rating'].values for name, group in data.groupby('gdp_category')]\n",
    "    f_stat, p_val = stats.f_oneway(*groups)\n",
    "    \n",
    "    # Teste post-hoc\n",
    "    tukey = pairwise_tukeyhsd(data['rating'], data['gdp_category'])\n",
    "    \n",
    "    # Visualização\n",
    "    plt.figure(figsize=(10, 6))\n",
    "    sns.boxplot(x='gdp_category', y='rating', data=data)\n",
    "    plt.title('Notas por Categoria de PIB')\n",
    "    plt.show()\n",
    "    \n",
    "    print('Resultados da ANOVA:')\n",
    "    print(f'F-statistic: {f_stat:.4f}')\n",
    "    print(f'P-valor: {p_val:.4f}')\n",
    "    print('\\nAnálise Post-hoc (Tukey):')\n",
    "    print(tukey)\n",
    "\n",
    "analyze_gdp_effect(df_clean)"
   ]
  },
  {
   "cell_type": "markdown",
   "metadata": {},
   "source": [
    "## 4. Teste de Hipótese 3: Correlação com Gastos em Educação"
   ]
  },
  {
   "cell_type": "code",
   "execution_count": null,
   "metadata": {},
   "source": [
    "def analyze_education_spending(data):\n",
    "    \"\"\"Analisa relação entre gastos em educação e desempenho.\"\"\"\n",
    "    # Correlação\n",
    "    corr, p_val = stats.pearsonr(data['expenditure_on _education_pct_gdp'], data['rating'])\n",
    "    \n",
    "    # Regressão simples\n",
    "    X = sm.add_constant(data['expenditure_on _education_pct_gdp'])\n",
    "    model = sm.OLS(data['rating'], X).fit()\n",
    "    \n",
    "    # Visualização\n",
    "    plt.figure(figsize=(10, 6))\n",
    "    sns.regplot(x='expenditure_on _education_pct_gdp', y='rating', data=data)\n",
    "    plt.title('Relação entre Gastos em Educação e Notas')\n",
    "    plt.xlabel('Gastos em Educação (% PIB)')\n",
    "    plt.ylabel('Nota PISA')\n",
    "    plt.show()\n",
    "    \n",
    "    print('Análise de Correlação:')\n",
    "    print(f'Correlação: {corr:.4f}')\n",
    "    print(f'P-valor: {p_val:.4f}')\n",
    "    print('\\nResultados da Regressão:')\n",
    "    print(model.summary().tables[1])\n",
    "\n",
    "analyze_education_spending(df_clean)"
   ]
  },
  {
   "cell_type": "markdown",
   "metadata": {},
   "source": [
    "## 5. Teste de Hipótese 4: Tendência Temporal"
   ]
  },
  {
   "cell_type": "code",
   "execution_count": null,
   "metadata": {},
   "source": [
    "def analyze_temporal_trend(data):\n",
    "    \"\"\"Analisa tendência temporal nas notas.\"\"\"\n",
    "    # Calcula médias anuais\n",
    "    yearly_means = data.groupby('time')['rating'].mean()\n",
    "    \n",
    "    # Teste de tendência\n",
    "    slope, intercept, r_value, p_value, std_err = stats.linregress(range(len(yearly_means)), yearly_means)\n",
    "    \n",
    "    # Mann-Kendall test\n",
    "    from scipy.stats import kendalltau\n",
    "    tau, p_val = kendalltau(yearly_means.index, yearly_means.values)\n",
    "    \n",
    "    # Visualização\n",
    "    plt.figure(figsize=(10, 6))\n",
    "    plt.plot(yearly_means.index, yearly_means.values, 'o-')\n",
    "    plt.plot(yearly_means.index, intercept + slope * np.arange(len(yearly_means)), 'r--')\n",
    "    plt.title('Tendência Temporal das Notas PISA')\n",
    "    plt.xlabel('Ano')\n",
    "    plt.ylabel('Nota Média')\n",
    "    plt.grid(True)\n",
    "    plt.show()\n",
    "    \n",
    "    print('Análise de Tendência Linear:')\n",
    "    print(f'Inclinação: {slope:.4f}')\n",
    "    print(f'R²: {r_value**2:.4f}')\n",
    "    print(f'P-valor: {p_value:.4f}')\n",
    "    print('\\nTeste de Mann-Kendall:')\n",
    "    print(f'Tau: {tau:.4f}')\n",
    "    print(f'P-valor: {p_val:.4f}')\n",
    "\n",
    "analyze_temporal_trend(df_clean)"
   ]
  },
  {
   "cell_type": "markdown",
   "metadata": {},
   "source": [
    "## 6. Teste de Hipótese 5: Interação entre PIB e Gastos em Educação"
   ]
  },
  {
   "cell_type": "code",
   "execution_count": null,
   "metadata": {},
   "source": [
    "def analyze_gdp_education_interaction(data):\n",
    "    \"\"\"Analisa interação entre PIB e gastos em educação.\"\"\"\n",
    "    # ANOVA de dois fatores\n",
    "    from statsmodels.stats.anova import anova_lm\n",
    "    from statsmodels.formula.api import ols\n",
    "    \n",
    "    model = ols('rating ~ C(gdp_category) + C(education_spending_category) + C(gdp_category):C(education_spending_category)',\n",
    "                data=data).fit()\n",
    "    anova_table = anova_lm(model, typ=2)\n",
    "    \n",
    "    # Médias por grupo\n",
    "    means = data.groupby(['gdp_category', 'education_spending_category'])['rating'].mean().unstack()\n",
    "    \n",
    "    # Visualização\n",
    "    fig, (ax1, ax2) = plt.subplots(1, 2, figsize=(15, 6))\n",
    "    \n",
    "    # Boxplot\n",
    "    sns.boxplot(x='gdp_category', y='rating', hue='education_spending_category', data=data, ax=ax1)\n",
    "    ax1.set_title('Distribuição das Notas por Categoria')\n",
    "    \n",
    "    # Interaction plot\n",
    "    means.plot(marker='o', ax=ax2)\n",
    "    ax2.set_title('Gráfico de Interação')\n",
    "    ax2.set_xlabel('Categoria de PIB')\n",
    "    ax2.set_ylabel('Nota Média')\n",
    "    \n",
    "    plt.tight_layout()\n",
    "    plt.show()\n",
    "    \n",
    "    print('ANOVA de Dois Fatores:')\n",
    "    print(anova_table)\n",
    "    print('\\nMédias por Grupo:')\n",
    "    print(means.round(2))\n",
    "\n",
    "analyze_gdp_education_interaction(df_clean)"
   ]
  }
 ],
 "metadata": {
  "kernelspec": {
   "display_name": "Python 3",
   "language": "python",
   "name": "python3"
  },
  "language_info": {
   "codemirror_mode": {
    "name": "ipython",
    "version": 3
   },
   "file_extension": ".py",
   "mimetype": "text/x-python",
   "name": "python",
   "nbconvert_exporter": "python",
   "pygments_lexer": "ipython3",
   "version": "3.8.0"
  }
 },
 "nbformat": 4,
 "nbformat_minor": 4
}
