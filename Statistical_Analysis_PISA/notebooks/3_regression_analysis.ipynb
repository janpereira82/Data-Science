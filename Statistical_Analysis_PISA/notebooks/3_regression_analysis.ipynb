{
 "cells": [
  {
   "cell_type": "markdown",
   "metadata": {},
   "source": [
    "# 3. Análise de Regressão dos Dados PISA\n",
    "\n",
    "Este notebook desenvolve e avalia modelos de regressão para prever o desempenho no PISA.\n",
    "\n",
    "## Objetivos\n",
    "1. Preparar features para modelagem\n",
    "2. Desenvolver modelos de regressão\n",
    "3. Avaliar performance dos modelos\n",
    "4. Analisar importância das features\n",
    "5. Validar pressupostos da regressão"
   ]
  },
  {
   "cell_type": "code",
   "execution_count": null,
   "metadata": {},
   "source": [
    "import pandas as pd\n",
    "import numpy as np\n",
    "import matplotlib.pyplot as plt\n",
    "import seaborn as sns\n",
    "from sklearn.model_selection import train_test_split, cross_val_score\n",
    "from sklearn.preprocessing import StandardScaler\n",
    "from sklearn.linear_model import LinearRegression, Ridge, Lasso\n",
    "from sklearn.metrics import mean_squared_error, r2_score\n",
    "import statsmodels.api as sm\n",
    "\n",
    "%matplotlib inline\n",
    "plt.style.use('seaborn')\n",
    "pd.set_option('display.max_columns', None)"
   ]
  },
  {
   "cell_type": "markdown",
   "metadata": {},
   "source": [
    "## 1. Preparação dos Dados"
   ]
  },
  {
   "cell_type": "code",
   "execution_count": null,
   "metadata": {},
   "source": [
    "# Carrega dados\n",
    "df = pd.read_csv('../data/economics_and_education_dataset_CSV.csv')\n",
    "\n",
    "# Define features para o modelo\n",
    "features = [\n",
    "    'expenditure_on _education_pct_gdp',\n",
    "    'gdp_per_capita_ppp',\n",
    "    'gini_index',\n",
    "    'unemployment',\n",
    "    'urban_population_pct_total'\n",
    "]\n",
    "\n",
    "# Prepara X e y\n",
    "X = df[features].copy()\n",
    "y = df['rating']\n",
    "\n",
    "# Remove linhas com valores ausentes\n",
    "mask = ~(X.isna().any(axis=1) | y.isna())\n",
    "X = X[mask]\n",
    "y = y[mask]\n",
    "\n",
    "# Normaliza features\n",
    "scaler = StandardScaler()\n",
    "X_scaled = scaler.fit_transform(X)\n",
    "X_scaled = pd.DataFrame(X_scaled, columns=X.columns)\n",
    "\n",
    "print('Shape dos dados após preparação:', X_scaled.shape)"
   ]
  },
  {
   "cell_type": "markdown",
   "metadata": {},
   "source": [
    "## 2. Regressão Linear Simples"
   ]
  },
  {
   "cell_type": "code",
   "execution_count": null,
   "metadata": {},
   "source": [
    "# Split treino-teste\n",
    "X_train, X_test, y_train, y_test = train_test_split(\n",
    "    X_scaled, y, test_size=0.2, random_state=42\n",
    ")\n",
    "\n",
    "# Treina modelo\n",
    "model = LinearRegression()\n",
    "model.fit(X_train, y_train)\n",
    "\n",
    "# Faz previsões\n",
    "y_pred = model.predict(X_test)\n",
    "\n",
    "# Avalia modelo\n",
    "r2 = r2_score(y_test, y_pred)\n",
    "mse = mean_squared_error(y_test, y_pred)\n",
    "\n",
    "print('Performance do Modelo:')\n",
    "print(f'R² Score: {r2:.4f}')\n",
    "print(f'MSE: {mse:.4f}')\n",
    "print(f'RMSE: {np.sqrt(mse):.4f}')\n",
    "\n",
    "# Plota resultados\n",
    "plt.figure(figsize=(10, 6))\n",
    "plt.scatter(y_test, y_pred, alpha=0.5)\n",
    "plt.plot([y_test.min(), y_test.max()], [y_test.min(), y_test.max()], 'r--', lw=2)\n",
    "plt.xlabel('Valores Reais')\n",
    "plt.ylabel('Valores Previstos')\n",
    "plt.title('Previsões vs. Valores Reais')\n",
    "plt.show()"
   ]
  },
  {
   "cell_type": "markdown",
   "metadata": {},
   "source": [
    "## 3. Análise dos Coeficientes"
   ]
  },
  {
   "cell_type": "code",
   "execution_count": null,
   "metadata": {},
   "source": [
    "# Cria DataFrame com coeficientes\n",
    "coef_df = pd.DataFrame({\n",
    "    'Feature': features,\n",
    "    'Coefficient': model.coef_\n",
    "}).sort_values('Coefficient', ascending=True)\n",
    "\n",
    "# Plota importância das features\n",
    "plt.figure(figsize=(10, 6))\n",
    "sns.barplot(data=coef_df, x='Coefficient', y='Feature')\n",
    "plt.title('Importância das Features')\n",
    "plt.axvline(x=0, color='black', linestyle='--')\n",
    "plt.show()\n",
    "\n",
    "print('\\nCoeficientes do Modelo:')\n",
    "print(coef_df)"
   ]
  },
  {
   "cell_type": "markdown",
   "metadata": {},
   "source": [
    "## 4. Validação Cruzada"
   ]
  },
  {
   "cell_type": "code",
   "execution_count": null,
   "metadata": {},
   "source": [
    "# Realiza validação cruzada\n",
    "cv_scores = cross_val_score(model, X_scaled, y, cv=5, scoring='r2')\n",
    "\n",
    "print('Resultados da Validação Cruzada:')\n",
    "print(f'R² médio: {cv_scores.mean():.4f} (+/- {cv_scores.std() * 2:.4f})')\n",
    "\n",
    "# Plota distribuição dos scores\n",
    "plt.figure(figsize=(8, 4))\n",
    "plt.boxplot(cv_scores)\n",
    "plt.title('Distribuição dos R² Scores na Validação Cruzada')\n",
    "plt.show()"
   ]
  },
  {
   "cell_type": "markdown",
   "metadata": {},
   "source": [
    "## 5. Análise de Resíduos"
   ]
  },
  {
   "cell_type": "code",
   "execution_count": null,
   "metadata": {},
   "source": [
    "# Calcula resíduos\n",
    "residuals = y_test - y_pred\n",
    "\n",
    "# Plots de diagnóstico\n",
    "fig, axes = plt.subplots(2, 2, figsize=(15, 10))\n",
    "\n",
    "# 1. Distribuição dos resíduos\n",
    "sns.histplot(residuals, kde=True, ax=axes[0,0])\n",
    "axes[0,0].set_title('Distribuição dos Resíduos')\n",
    "\n",
    "# 2. Q-Q Plot\n",
    "stats.probplot(residuals, dist=\"norm\", plot=axes[0,1])\n",
    "axes[0,1].set_title('Q-Q Plot dos Resíduos')\n",
    "\n",
    "# 3. Resíduos vs. Valores Previstos\n",
    "axes[1,0].scatter(y_pred, residuals, alpha=0.5)\n",
    "axes[1,0].axhline(y=0, color='r', linestyle='--')\n",
    "axes[1,0].set_xlabel('Valores Previstos')\n",
    "axes[1,0].set_ylabel('Resíduos')\n",
    "axes[1,0].set_title('Resíduos vs. Valores Previstos')\n",
    "\n",
    "# 4. Resíduos vs. Ordem\n",
    "axes[1,1].plot(residuals, 'o-', alpha=0.5)\n",
    "axes[1,1].axhline(y=0, color='r', linestyle='--')\n",
    "axes[1,1].set_title('Resíduos vs. Ordem')\n",
    "\n",
    "plt.tight_layout()\n",
    "plt.show()\n",
    "\n",
    "# Testes estatísticos\n",
    "print('Teste de Normalidade dos Resíduos (Shapiro-Wilk):')\n",
    "stat, p_val = stats.shapiro(residuals)\n",
    "print(f'Estatística: {stat:.4f}')\n",
    "print(f'P-valor: {p_val:.4f}')\n",
    "\n",
    "print('\\nTeste de Homocedasticidade (Breusch-Pagan):')\n",
    "from statsmodels.stats.diagnostic import het_breuschpagan\n",
    "_, p_val, _, _ = het_breuschpagan(residuals, X_test)\n",
    "print(f'P-valor: {p_val:.4f}')"
   ]
  },
  {
   "cell_type": "markdown",
   "metadata": {},
   "source": [
    "## 6. Comparação de Modelos"
   ]
  },
  {
   "cell_type": "code",
   "execution_count": null,
   "metadata": {},
   "source": [
    "# Define modelos para comparação\n",
    "models = {\n",
    "    'Linear Regression': LinearRegression(),\n",
    "    'Ridge': Ridge(alpha=1.0),\n",
    "    'Lasso': Lasso(alpha=1.0)\n",
    "}\n",
    "\n",
    "# Avalia cada modelo\n",
    "results = []\n",
    "for name, model in models.items():\n",
    "    # Validação cruzada\n",
    "    cv_scores = cross_val_score(model, X_scaled, y, cv=5, scoring='r2')\n",
    "    \n",
    "    # Treina modelo completo\n",
    "    model.fit(X_train, y_train)\n",
    "    y_pred = model.predict(X_test)\n",
    "    test_r2 = r2_score(y_test, y_pred)\n",
    "    test_rmse = np.sqrt(mean_squared_error(y_test, y_pred))\n",
    "    \n",
    "    results.append({\n",
    "        'Model': name,\n",
    "        'CV R² (mean)': cv_scores.mean(),\n",
    "        'CV R² (std)': cv_scores.std(),\n",
    "        'Test R²': test_r2,\n",
    "        'Test RMSE': test_rmse\n",
    "    })\n",
    "\n",
    "# Exibe resultados\n",
    "results_df = pd.DataFrame(results)\n",
    "print('Comparação de Modelos:')\n",
    "print(results_df.round(4))\n",
    "\n",
    "# Plota comparação\n",
    "plt.figure(figsize=(10, 6))\n",
    "sns.barplot(data=results_df, x='Model', y='Test R²')\n",
    "plt.title('Comparação do R² entre Modelos')\n",
    "plt.xticks(rotation=45)\n",
    "plt.show()"
   ]
  }
 ],
 "metadata": {
  "kernelspec": {
   "display_name": "Python 3",
   "language": "python",
   "name": "python3"
  },
  "language_info": {
   "codemirror_mode": {
    "name": "ipython",
    "version": 3
   },
   "file_extension": ".py",
   "mimetype": "text/x-python",
   "name": "python",
   "nbconvert_exporter": "python",
   "pygments_lexer": "ipython3",
   "version": "3.8.0"
  }
 },
 "nbformat": 4,
 "nbformat_minor": 4
}
