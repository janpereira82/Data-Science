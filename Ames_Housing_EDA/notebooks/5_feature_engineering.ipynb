{
 "cells": [
  {
   "cell_type": "markdown",
   "metadata": {},
   "source": [
    "# 5. Engenharia de Features - Ames Housing Dataset\n",
    "\n",
    "Este notebook foca na criação e transformação de features, incluindo:\n",
    "1. Criação de novas features\n",
    "2. Transformação de variáveis existentes\n",
    "3. Codificação de variáveis categóricas\n",
    "4. Normalização/Padronização de features"
   ]
  },
  {
   "cell_type": "code",
   "execution_count": null,
   "metadata": {},
   "source": [
    "# Importando bibliotecas necessárias\n",
    "import pandas as pd\n",
    "import numpy as np\n",
    "from sklearn.preprocessing import StandardScaler, LabelEncoder\n",
    "import matplotlib.pyplot as plt\n",
    "import seaborn as sns\n",
    "\n",
    "# Configurações de visualização\n",
    "plt.style.use('seaborn')\n",
    "%matplotlib inline"
   ]
  },
  {
   "cell_type": "code",
   "execution_count": null,
   "metadata": {},
   "source": [
    "# Carregando os dados tratados\n",
    "df = pd.read_csv('../data/ames_housing_treated.csv')"
   ]
  },
  {
   "cell_type": "markdown",
   "metadata": {},
   "source": [
    "## 1. Criação de Novas Features"
   ]
  },
  {
   "cell_type": "code",
   "execution_count": null,
   "metadata": {},
   "source": [
    "# Área total\n",
    "df['TotalArea'] = df['GrLivArea'] + df['TotalBsmtSF']\n",
    "\n",
    "# Idade da casa no momento da venda\n",
    "df['HouseAge'] = df['YrSold'] - df['YearBuilt']\n",
    "\n",
    "# Anos desde a última reforma\n",
    "df['YearsSinceRemodel'] = df['YrSold'] - df['YearRemodAdd']\n",
    "\n",
    "# Área total de banheiros\n",
    "df['TotalBathrooms'] = df['FullBath'] + (0.5 * df['HalfBath']) + \\\n",
    "                       df['BsmtFullBath'] + (0.5 * df['BsmtHalfBath'])\n",
    "\n",
    "# Área total de pórticos\n",
    "df['TotalPorchArea'] = df['OpenPorchSF'] + df['EnclosedPorch'] + \\\n",
    "                       df['3SsnPorch'] + df['ScreenPorch']\n",
    "\n",
    "# Qualidade geral (média das qualidades)\n",
    "quality_cols = [col for col in df.columns if 'Qual' in col]\n",
    "df['OverallQuality'] = df[quality_cols].mean(axis=1)\n",
    "\n",
    "print(\"Novas features criadas:\")\n",
    "print(df[['TotalArea', 'HouseAge', 'YearsSinceRemodel', 'TotalBathrooms', \n",
    "          'TotalPorchArea', 'OverallQuality']].describe())"
   ]
  },
  {
   "cell_type": "markdown",
   "metadata": {},
   "source": [
    "## 2. Transformação de Variáveis"
   ]
  },
  {
   "cell_type": "code",
   "execution_count": null,
   "metadata": {},
   "source": [
    "# Aplicando log transformation em variáveis numéricas com distribuição assimétrica\n",
    "skewed_features = ['LotArea', 'TotalArea', 'SalePrice']\n",
    "\n",
    "for feature in skewed_features:\n",
    "    df[f'{feature}_Log'] = np.log1p(df[feature])\n",
    "\n",
    "# Visualizando as distribuições antes e depois da transformação\n",
    "fig, axes = plt.subplots(len(skewed_features), 2, figsize=(12, 4*len(skewed_features)))\n",
    "\n",
    "for idx, feature in enumerate(skewed_features):\n",
    "    # Original\n",
    "    sns.histplot(df[feature], kde=True, ax=axes[idx, 0])\n",
    "    axes[idx, 0].set_title(f'Distribuição Original - {feature}')\n",
    "    \n",
    "    # Transformada\n",
    "    sns.histplot(df[f'{feature}_Log'], kde=True, ax=axes[idx, 1])\n",
    "    axes[idx, 1].set_title(f'Distribuição Log - {feature}')\n",
    "\n",
    "plt.tight_layout()\n",
    "plt.show()"
   ]
  },
  {
   "cell_type": "markdown",
   "metadata": {},
   "source": [
    "## 3. Codificação de Variáveis Categóricas"
   ]
  },
  {
   "cell_type": "code",
   "execution_count": null,
   "metadata": {},
   "source": [
    "# Identificando variáveis categóricas\n",
    "categorical_cols = df.select_dtypes(include=['object']).columns\n",
    "\n",
    "# Label Encoding para variáveis ordinais\n",
    "ordinal_features = ['ExterQual', 'ExterCond', 'BsmtQual', 'BsmtCond', \n",
    "                    'HeatingQC', 'KitchenQual', 'FireplaceQu']\n",
    "\n",
    "for feature in ordinal_features:\n",
    "    if feature in df.columns:\n",
    "        le = LabelEncoder()\n",
    "        df[f'{feature}_Encoded'] = le.fit_transform(df[feature].fillna('None'))\n",
    "\n",
    "# One-hot encoding para variáveis nominais\n",
    "nominal_features = [col for col in categorical_cols if col not in ordinal_features]\n",
    "df_encoded = pd.get_dummies(df, columns=nominal_features, drop_first=True)\n",
    "\n",
    "print(\"Dimensões do dataset após codificação:\", df_encoded.shape)\n",
    "print(\"\\nPrimeiras colunas codificadas:\")\n",
    "print(df_encoded.columns[:10])"
   ]
  },
  {
   "cell_type": "markdown",
   "metadata": {},
   "source": [
    "## 4. Normalização de Features"
   ]
  },
  {
   "cell_type": "code",
   "execution_count": null,
   "metadata": {},
   "source": [
    "# Selecionando features numéricas para normalização\n",
    "numeric_features = df_encoded.select_dtypes(include=[np.number]).columns\n",
    "numeric_features = numeric_features.drop('SalePrice')  # Removendo a variável alvo\n",
    "\n",
    "# Aplicando StandardScaler\n",
    "scaler = StandardScaler()\n",
    "df_encoded[numeric_features] = scaler.fit_transform(df_encoded[numeric_features])\n",
    "\n",
    "# Visualizando distribuição das features normalizadas\n",
    "plt.figure(figsize=(12, 6))\n",
    "sns.boxplot(data=df_encoded[numeric_features[:10]])\n",
    "plt.xticks(rotation=45)\n",
    "plt.title('Distribuição das Features Normalizadas')\n",
    "plt.show()"
   ]
  },
  {
   "cell_type": "markdown",
   "metadata": {},
   "source": [
    "## 5. Salvando o Dataset Processado"
   ]
  },
  {
   "cell_type": "code",
   "execution_count": null,
   "metadata": {},
   "source": [
    "# Salvando o dataset processado\n",
    "df_encoded.to_csv('../data/ames_housing_processed.csv', index=False)\n",
    "print(\"Dataset processado salvo com sucesso!\")\n",
    "\n",
    "# Exibindo informações finais\n",
    "print(f\"\\nDimensões finais do dataset: {df_encoded.shape}\")\n",
    "print(f\"Número de features numéricas: {len(numeric_features)}\")\n",
    "print(f\"Número de features categóricas codificadas: {len(df_encoded.columns) - len(numeric_features) - 1}\")"
   ]
  }
 ],
 "metadata": {
  "kernelspec": {
   "display_name": "Python 3",
   "language": "python",
   "name": "python3"
  },
  "language_info": {
   "codemirror_mode": {
    "name": "ipython",
    "version": 3
   },
   "file_extension": ".py",
   "mimetype": "text/x-python",
   "name": "python",
   "nbconvert_exporter": "python",
   "pygments_lexer": "ipython3",
   "version": "3.8.0"
  }
 },
 "nbformat": 4,
 "nbformat_minor": 4
}
