{
 "cells": [
  {
   "cell_type": "markdown",
   "metadata": {},
   "source": [
    "# 3. Feature Engineering\n",
    "\n",
    "Este notebook implementa a criação de novas features para o dataset de doenças cardíacas."
   ]
  },
  {
   "cell_type": "code",
   "execution_count": null,
   "metadata": {},
   "source": [
    "import pandas as pd\n",
    "import numpy as np\n",
    "import matplotlib.pyplot as plt\n",
    "import seaborn as sns\n",
    "from pathlib import Path\n",
    "from sklearn.preprocessing import StandardScaler, LabelEncoder\n",
    "\n",
    "# Configurações de visualização\n",
    "plt.style.use('seaborn')\n",
    "sns.set_palette('husl')\n",
    "pd.set_option('display.max_columns', None)"
   ]
  },
  {
   "cell_type": "code",
   "execution_count": null,
   "metadata": {},
   "source": [
    "# Carregar dados\n",
    "data_path = Path('../data/HeartDiseaseTrain-Test.csv')\n",
    "df = pd.read_csv(data_path)"
   ]
  },
  {
   "cell_type": "markdown",
   "metadata": {},
   "source": [
    "## 1. Features de Risco por Idade"
   ]
  },
  {
   "cell_type": "code",
   "execution_count": null,
   "metadata": {},
   "source": [
    "# Criar categorias de risco por idade\n",
    "df['age_risk'] = pd.cut(df['age'], \n",
    "                        bins=[0, 40, 50, 60, 70, 100], \n",
    "                        labels=[1, 2, 3, 4, 5])\n",
    "df['age_risk'] = df['age_risk'].astype(int)\n",
    "\n",
    "# Visualizar distribuição\n",
    "plt.figure(figsize=(10, 6))\n",
    "sns.countplot(data=df, x='age_risk', hue='target')\n",
    "plt.title('Distribuição de Risco por Idade')\n",
    "plt.show()"
   ]
  },
  {
   "cell_type": "markdown",
   "metadata": {},
   "source": [
    "## 2. Features de Risco por Pressão Arterial"
   ]
  },
  {
   "cell_type": "code",
   "execution_count": null,
   "metadata": {},
   "source": [
    "# Criar categorias de risco por pressão arterial\n",
    "def categorize_bp(bp):\n",
    "    if bp < 120: return 1  # Normal\n",
    "    elif bp < 130: return 2  # Elevated\n",
    "    elif bp < 140: return 3  # Stage 1\n",
    "    else: return 4  # Stage 2\n",
    "\n",
    "df['bp_risk'] = df['resting_blood_pressure'].apply(categorize_bp)\n",
    "\n",
    "# Visualizar distribuição\n",
    "plt.figure(figsize=(10, 6))\n",
    "sns.countplot(data=df, x='bp_risk', hue='target')\n",
    "plt.title('Distribuição de Risco por Pressão Arterial')\n",
    "plt.show()"
   ]
  },
  {
   "cell_type": "markdown",
   "metadata": {},
   "source": [
    "## 3. Índice de Estresse Cardíaco"
   ]
  },
  {
   "cell_type": "code",
   "execution_count": null,
   "metadata": {},
   "source": [
    "# Calcular índice de estresse cardíaco\n",
    "max_theoretical_heart_rate = 220 - df['age'].astype(float)\n",
    "df['cardiac_stress_index'] = (\n",
    "    df['Max_heart_rate'].astype(float) * \n",
    "    df['resting_blood_pressure'].astype(float) / \n",
    "    max_theoretical_heart_rate\n",
    ")\n",
    "\n",
    "# Visualizar distribuição\n",
    "plt.figure(figsize=(10, 6))\n",
    "sns.histplot(data=df, x='cardiac_stress_index', hue='target')\n",
    "plt.title('Distribuição do Índice de Estresse Cardíaco')\n",
    "plt.show()"
   ]
  },
  {
   "cell_type": "markdown",
   "metadata": {},
   "source": [
    "## 4. Score de Risco Combinado"
   ]
  },
  {
   "cell_type": "code",
   "execution_count": null,
   "metadata": {},
   "source": [
    "# Calcular score de risco combinado\n",
    "fasting_sugar_risk = (df['fasting_blood_sugar'] == 'Greater than 120 mg/ml').astype(int)\n",
    "df['combined_risk_score'] = (\n",
    "    df['age_risk'] +\n",
    "    df['bp_risk'] +\n",
    "    (df['cholestoral'] > 200).astype(int) * 2 +\n",
    "    fasting_sugar_risk * 2\n",
    ")\n",
    "\n",
    "# Visualizar distribuição\n",
    "plt.figure(figsize=(10, 6))\n",
    "sns.boxplot(data=df, x='target', y='combined_risk_score')\n",
    "plt.title('Score de Risco Combinado por Grupo')\n",
    "plt.show()"
   ]
  },
  {
   "cell_type": "markdown",
   "metadata": {},
   "source": [
    "## 5. Features de Interação"
   ]
  },
  {
   "cell_type": "code",
   "execution_count": null,
   "metadata": {},
   "source": [
    "# Criar features de interação\n",
    "df['age_heartrate_interaction'] = df['age'].astype(float) * df['Max_heart_rate'].astype(float)\n",
    "df['bp_cholesterol_interaction'] = df['resting_blood_pressure'].astype(float) * df['cholestoral'].astype(float) / 1000\n",
    "\n",
    "# Visualizar correlações\n",
    "interaction_features = ['age_heartrate_interaction', 'bp_cholesterol_interaction', 'target']\n",
    "plt.figure(figsize=(8, 6))\n",
    "sns.heatmap(df[interaction_features].corr(), annot=True, cmap='coolwarm')\n",
    "plt.title('Correlação das Features de Interação')\n",
    "plt.show()"
   ]
  },
  {
   "cell_type": "markdown",
   "metadata": {},
   "source": [
    "## 6. Salvar Dataset Processado"
   ]
  },
  {
   "cell_type": "code",
   "execution_count": null,
   "metadata": {},
   "source": [
    "# Salvar dataset com novas features\n",
    "output_path = Path('../data/heart_disease_processed.csv')\n",
    "df.to_csv(output_path, index=False)\n",
    "print(f\"Dataset processado salvo em: {output_path}\")"
   ]
  }
 ],
 "metadata": {
  "kernelspec": {
   "display_name": "Python 3",
   "language": "python",
   "name": "python3"
  }
 },
 "nbformat": 4,
 "nbformat_minor": 4
}
