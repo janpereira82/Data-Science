{
 "cells": [
  {
   "cell_type": "markdown",
   "metadata": {},
   "source": [
    "# 2. Análise Estatística\n",
    "\n",
    "Este notebook realiza uma análise estatística detalhada das variáveis do dataset."
   ]
  },
  {
   "cell_type": "code",
   "execution_count": null,
   "metadata": {},
   "source": [
    "import pandas as pd\n",
    "import numpy as np\n",
    "import matplotlib.pyplot as plt\n",
    "import seaborn as sns\n",
    "from pathlib import Path\n",
    "from scipy import stats\n",
    "\n",
    "# Configurações de visualização\n",
    "plt.style.use('seaborn')\n",
    "sns.set_palette('husl')\n",
    "pd.set_option('display.max_columns', None)"
   ]
  },
  {
   "cell_type": "code",
   "execution_count": null,
   "metadata": {},
   "source": [
    "# Carregar dados\n",
    "data_path = Path('../data/HeartDiseaseTrain-Test.csv')\n",
    "df = pd.read_csv(data_path)"
   ]
  },
  {
   "cell_type": "markdown",
   "metadata": {},
   "source": [
    "## Análise de Correlação"
   ]
  },
  {
   "cell_type": "code",
   "execution_count": null,
   "metadata": {},
   "source": [
    "# Matriz de correlação\n",
    "numeric_cols = df.select_dtypes(include=['int64', 'float64']).columns\n",
    "correlation_matrix = df[numeric_cols].corr()\n",
    "\n",
    "plt.figure(figsize=(12, 10))\n",
    "sns.heatmap(correlation_matrix, annot=True, cmap='coolwarm', center=0)\n",
    "plt.title('Matriz de Correlação')\n",
    "plt.show()"
   ]
  },
  {
   "cell_type": "markdown",
   "metadata": {},
   "source": [
    "## Análise por Grupo de Risco"
   ]
  },
  {
   "cell_type": "code",
   "execution_count": null,
   "metadata": {},
   "source": [
    "# Comparação de distribuições entre grupos com e sem doença cardíaca\n",
    "fig, axes = plt.subplots(2, 2, figsize=(15, 12))\n",
    "axes = axes.flatten()\n",
    "\n",
    "# Idade\n",
    "sns.boxplot(data=df, x='target', y='age', ax=axes[0])\n",
    "axes[0].set_title('Distribuição de Idade por Grupo')\n",
    "\n",
    "# Pressão arterial\n",
    "sns.boxplot(data=df, x='target', y='resting_blood_pressure', ax=axes[1])\n",
    "axes[1].set_title('Distribuição de Pressão Arterial por Grupo')\n",
    "\n",
    "# Colesterol\n",
    "sns.boxplot(data=df, x='target', y='cholestoral', ax=axes[2])\n",
    "axes[2].set_title('Distribuição de Colesterol por Grupo')\n",
    "\n",
    "# Frequência cardíaca máxima\n",
    "sns.boxplot(data=df, x='target', y='Max_heart_rate', ax=axes[3])\n",
    "axes[3].set_title('Distribuição de Frequência Cardíaca Máxima por Grupo')\n",
    "\n",
    "plt.tight_layout()\n",
    "plt.show()"
   ]
  },
  {
   "cell_type": "markdown",
   "metadata": {},
   "source": [
    "## Testes Estatísticos"
   ]
  },
  {
   "cell_type": "code",
   "execution_count": null,
   "metadata": {},
   "source": [
    "# Realizar testes t para comparar grupos\n",
    "numeric_cols = ['age', 'resting_blood_pressure', 'cholestoral', 'Max_heart_rate']\n",
    "test_results = {}\n",
    "\n",
    "for col in numeric_cols:\n",
    "    group1 = df[df['target'] == 0][col]\n",
    "    group2 = df[df['target'] == 1][col]\n",
    "    t_stat, p_val = stats.ttest_ind(group1, group2)\n",
    "    test_results[col] = {'t_statistic': t_stat, 'p_value': p_val}\n",
    "\n",
    "pd.DataFrame(test_results).T"
   ]
  }
 ],
 "metadata": {
  "kernelspec": {
   "display_name": "Python 3",
   "language": "python",
   "name": "python3"
  }
 },
 "nbformat": 4,
 "nbformat_minor": 4
}
